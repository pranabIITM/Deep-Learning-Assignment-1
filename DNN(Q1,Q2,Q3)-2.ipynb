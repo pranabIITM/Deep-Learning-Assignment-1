{
  "cells": [
    {
      "cell_type": "code",
      "execution_count": 2,
      "metadata": {
        "id": "0d5cE7Rp_fB1"
      },
      "outputs": [],
      "source": [
        "#Importing the libraries\n",
        "\n",
        "import numpy as np\n",
        "from matplotlib import pyplot\n",
        "from keras.datasets import fashion_mnist"
      ]
    },
    {
      "cell_type": "code",
      "source": [
        "!nvcc --version"
      ],
      "metadata": {
        "colab": {
          "base_uri": "https://localhost:8080/"
        },
        "id": "wlXY1cofVfXM",
        "outputId": "708dfbd0-2da3-4d2a-c691-3b35c7e6229b"
      },
      "execution_count": null,
      "outputs": [
        {
          "output_type": "stream",
          "name": "stdout",
          "text": [
            "nvcc: NVIDIA (R) Cuda compiler driver\n",
            "Copyright (c) 2005-2020 NVIDIA Corporation\n",
            "Built on Mon_Oct_12_20:09:46_PDT_2020\n",
            "Cuda compilation tools, release 11.1, V11.1.105\n",
            "Build cuda_11.1.TC455_06.29190527_0\n"
          ]
        }
      ]
    },
    {
      "cell_type": "code",
      "source": [
        "!nvidia-smi"
      ],
      "metadata": {
        "colab": {
          "base_uri": "https://localhost:8080/"
        },
        "id": "H3C5JanUVpBN",
        "outputId": "238d7d8f-4fcd-4b1e-d2cf-a760f6010614"
      },
      "execution_count": null,
      "outputs": [
        {
          "output_type": "stream",
          "name": "stdout",
          "text": [
            "Sun Feb 20 08:54:08 2022       \n",
            "+-----------------------------------------------------------------------------+\n",
            "| NVIDIA-SMI 460.32.03    Driver Version: 460.32.03    CUDA Version: 11.2     |\n",
            "|-------------------------------+----------------------+----------------------+\n",
            "| GPU  Name        Persistence-M| Bus-Id        Disp.A | Volatile Uncorr. ECC |\n",
            "| Fan  Temp  Perf  Pwr:Usage/Cap|         Memory-Usage | GPU-Util  Compute M. |\n",
            "|                               |                      |               MIG M. |\n",
            "|===============================+======================+======================|\n",
            "|   0  Tesla K80           Off  | 00000000:00:04.0 Off |                    0 |\n",
            "| N/A   73C    P0    77W / 149W |    145MiB / 11441MiB |      0%      Default |\n",
            "|                               |                      |                  N/A |\n",
            "+-------------------------------+----------------------+----------------------+\n",
            "                                                                               \n",
            "+-----------------------------------------------------------------------------+\n",
            "| Processes:                                                                  |\n",
            "|  GPU   GI   CI        PID   Type   Process name                  GPU Memory |\n",
            "|        ID   ID                                                   Usage      |\n",
            "|=============================================================================|\n",
            "+-----------------------------------------------------------------------------+\n"
          ]
        }
      ]
    },
    {
      "cell_type": "code",
      "source": [
        "import tensorflow as tf\n",
        "device_name = tf.test.gpu_device_name()\n",
        "if device_name != '/device:GPU:0':\n",
        "  raise SystemError('GPU device not found')\n",
        "print('Found GPU at: {}'.format(device_name))"
      ],
      "metadata": {
        "colab": {
          "base_uri": "https://localhost:8080/"
        },
        "id": "BhXpNXdGKIkm",
        "outputId": "1e149f87-9b5e-4bfc-e21b-9fc8ffec484a"
      },
      "execution_count": null,
      "outputs": [
        {
          "output_type": "stream",
          "name": "stdout",
          "text": [
            "Found GPU at: /device:GPU:0\n"
          ]
        }
      ]
    },
    {
      "cell_type": "code",
      "execution_count": 3,
      "metadata": {
        "id": "u0U0RD_S_fB4"
      },
      "outputs": [],
      "source": [
        "import numpy as np\n",
        "\n",
        "# def sig(x):\n",
        "#     if(x>=0):\n",
        "#         return 1/(1 + np.exp(-x))\n",
        "#     else:\n",
        "#         return np.exp(x)/(1 + np.exp(x))\n",
        "def sig(x):\n",
        "    si = np.where(x < 0, np.exp(x)/(1 + np.exp(x)), 1/(1 + np.exp(-x)))\n",
        "    return si\n",
        "\n",
        "def d_sig(x):\n",
        "    return (1 - sig(x)) * sig(x)\n",
        "\n",
        "def tanh(x):\n",
        "    return np.tanh(x)\n",
        "\n",
        "def d_tanh(x):\n",
        "    return 1 - np.square(np.tanh(x))\n",
        "\n",
        "def softmax(x):\n",
        "    shift = x - np.max(x)\n",
        "    exps = np.exp(shift)\n",
        "    return exps / np.sum(exps)\n",
        "\n",
        "def soft_derv(y, x):     # y = target o/p (one-hot), x = preactivation value\n",
        "    shift = x - np.max(x)\n",
        "    exps = np.exp(shift)\n",
        "    yh = exps / np.sum(exps)\n",
        "    return (yh-y)\n",
        "    \n",
        "# Loss Functions \n",
        "def cross_enloss(y, yh):\n",
        "    loss = -(y*np.log(yh))\n",
        "    return np.sum(loss)\n",
        "\n",
        "def d_cross(y, yh):\n",
        "    return -(y*(1/yh))\n",
        "\n",
        "\n",
        "#-- Helper Functions --------------------------\n",
        "\n",
        "def oneHotEnc(Y, num_class):\n",
        "    Yenc = np.zeros((num_class, int(Y.shape[0])))\n",
        "    for i in range(Y.shape[0]):\n",
        "        val = Y[i]\n",
        "        Yenc[int(val)][i] = 1.0\n",
        "    return Yenc"
      ]
    },
    {
      "cell_type": "code",
      "execution_count": 4,
      "metadata": {
        "id": "QlQeYeS-_fB6"
      },
      "outputs": [],
      "source": [
        "# The layer class\n",
        "class Layer:\n",
        "\n",
        "    actFun = {\n",
        "        'tanh': (tanh, d_tanh),\n",
        "        'sigmoid': (sig, d_sig),\n",
        "        'softmax': (softmax, soft_derv)\n",
        "    }\n",
        "    \n",
        "\n",
        "    def __init__(self, inputs, neurons, activation, eta, op=False):\n",
        "        self.eta = eta\n",
        "        self.op = op\n",
        "        self.W = np.random.randn(neurons, inputs)\n",
        "        self.b = np.random.randn(neurons,1)\n",
        "        self.f, self.der = self.actFun.get(activation)\n",
        "    \n",
        "    def feed(self, inps):\n",
        "        pA = np.matmul(self.W,inps) + self.b\n",
        "        A = self.f(pA)\n",
        "        return A\n",
        "    \n",
        "    def feedforward(self, inps):\n",
        "        self.inps = inps\n",
        "        self.preAct = np.matmul(self.W, self.inps) + self.b\n",
        "        self.Act = self.f(self.preAct)\n",
        "        return self.Act\n",
        "    \n",
        "    def reset_grad(self):\n",
        "        self.dW = np.zeros((int(self.W.shape[0]), int(self.W.shape[1]) ))\n",
        "        self.db = np.zeros((len(self.b), 1))\n",
        "        \n",
        "        \n",
        "    #der(self.preAct) = derv of Activation wrt preActivation at a layer\n",
        "    #delA = derv of loss w.r.t [activation] (returned back from next/right layer)\n",
        "    #delPA = derv of loss wrt preAct\n",
        "    \n",
        "    def calc_grad(self, delA, y = np.array([[]]) ):\n",
        "        if self.op == True:\n",
        "            delPA = self.der(y, self.preAct)\n",
        "        else:\n",
        "            delPA = np.multiply(self.der(self.preAct), delA)\n",
        "        \n",
        "        delPA = delPA.reshape(len(delPA), 1)\n",
        "        dW = np.matmul(delPA, self.inps.T)\n",
        "        db = delPA\n",
        "        dA_prev = np.matmul(self.W.T, delPA) #derivative of error w.r.t to activations at previous layer\n",
        "        \n",
        "        self.dW = self.dW + dW\n",
        "        self.db = self.db + db\n",
        "        \n",
        "        return dA_prev\n",
        "    \n",
        "    def update_grad(self):\n",
        "        self.W = self.W-(self.eta*self.dW)\n",
        "        self.b = self.b-(self.eta*self.db)\n"
      ]
    },
    {
      "cell_type": "code",
      "execution_count": 13,
      "metadata": {
        "id": "-gFHfgHI_fB9"
      },
      "outputs": [],
      "source": [
        "class network:\n",
        "\n",
        "    def __init__(self, n_layers, neuron_list, act_list, X, Y, eta):\n",
        "        self.X = X\n",
        "        self.Y = Y\n",
        "        self.layers = [Layer(X.shape[0], neuron_list[0], act_list[0],eta)]\n",
        "        for i in range(1, n_layers):\n",
        "            if i == (n_layers-1):\n",
        "                self.layers.append( Layer(neuron_list[i-1], neuron_list[i], act_list[i], eta,True) )  #set layers of network\n",
        "            else:\n",
        "                self.layers.append( Layer(neuron_list[i-1], neuron_list[i], act_list[i], eta) )  #set layers of network\n",
        "        \n",
        "        \n",
        "    def train_sgd(self, epochs):\n",
        "        losses = []\n",
        "        for epoch in range(epochs):\n",
        "            i=0\n",
        "            loss = 0\n",
        "            for x,y in zip(self.X.transpose(),self.Y.transpose()):\n",
        "                #feedforward\n",
        "                y = y.reshape(len(y),1)\n",
        "                inp = x.reshape(len(x),1)\n",
        "                for layer in self.layers:\n",
        "                    inp = layer.feedforward(inp)\n",
        "                \n",
        "                yh = inp\n",
        "                \n",
        "                loss = loss + cross_enloss(y, yh)\n",
        "                \n",
        "                delA = yh\n",
        "                for layer in reversed(self.layers):\n",
        "                    ######################################\n",
        "                    layer.reset_grad()    #reset gradients\n",
        "                    \n",
        "                    if(layer.op==True):\n",
        "                        delA = layer.calc_grad(delA, y)\n",
        "                    else:\n",
        "                        delA = layer.calc_grad(delA)\n",
        "                        \n",
        "                    layer.update_grad()   #\n",
        "                    #####################################\n",
        "                # i = i+1\n",
        "                # if(i%18000==0):\n",
        "                #     print(\"%d dp complete !\" %(i,))\n",
        "\n",
        "            loss = loss/54000\n",
        "            losses.append(loss)\n",
        "            print(\"%d Complete. Loss = %f\" %(epoch, losses[-1],))\n",
        "        print(\"Update complete. Total epochs = %d\" %(epochs,))\n",
        "        return losses\n",
        "    \n",
        "    def classify(self, Xtest):\n",
        "        pred = []\n",
        "        for x in Xtest.transpose():\n",
        "            yh = x.reshape(len(x),1)\n",
        "            \n",
        "            #feeding forward without saving\n",
        "            for layer in self.layers:\n",
        "                yh = layer.feed(yh)\n",
        "                \n",
        "            pred.append(yh.T)\n",
        "        \n",
        "        return pred"
      ]
    },
    {
      "cell_type": "code",
      "execution_count": 6,
      "metadata": {
        "colab": {
          "base_uri": "https://localhost:8080/"
        },
        "id": "KkmzxM3t_fB-",
        "outputId": "9c23785b-3b48-49f7-971b-8d25fd61084d"
      },
      "outputs": [
        {
          "output_type": "stream",
          "name": "stdout",
          "text": [
            "Downloading data from https://storage.googleapis.com/tensorflow/tf-keras-datasets/train-labels-idx1-ubyte.gz\n",
            "32768/29515 [=================================] - 0s 0us/step\n",
            "40960/29515 [=========================================] - 0s 0us/step\n",
            "Downloading data from https://storage.googleapis.com/tensorflow/tf-keras-datasets/train-images-idx3-ubyte.gz\n",
            "26427392/26421880 [==============================] - 0s 0us/step\n",
            "26435584/26421880 [==============================] - 0s 0us/step\n",
            "Downloading data from https://storage.googleapis.com/tensorflow/tf-keras-datasets/t10k-labels-idx1-ubyte.gz\n",
            "16384/5148 [===============================================================================================] - 0s 0us/step\n",
            "Downloading data from https://storage.googleapis.com/tensorflow/tf-keras-datasets/t10k-images-idx3-ubyte.gz\n",
            "4423680/4422102 [==============================] - 0s 0us/step\n",
            "4431872/4422102 [==============================] - 0s 0us/step\n",
            "Train: X=(60000, 28, 28), y=(60000,)\n",
            "Test: X=(10000, 28, 28), y=(10000,)\n"
          ]
        }
      ],
      "source": [
        "#data extraction and preprocessing\n",
        "\n",
        "# load dataset\n",
        "(trainX, trainy), (testX, testy) = fashion_mnist.load_data()\n",
        "# summarize loaded dataset\n",
        "print('Train: X=%s, y=%s' % (trainX.shape, trainy.shape))\n",
        "print('Test: X=%s, y=%s' % (testX.shape, testy.shape))\n",
        "\n",
        "# # plot first few images\n",
        "# for i in range(9):\n",
        "#     # define subplot\n",
        "#     pyplot.subplot(330 + 1 + i)\n",
        "#     # plot raw pixel data\n",
        "#     pyplot.imshow(trainX[i], cmap=pyplot.get_cmap('gray'))\n",
        "# # show the figure\n",
        "# pyplot.show()"
      ]
    },
    {
      "cell_type": "code",
      "execution_count": 7,
      "metadata": {
        "colab": {
          "base_uri": "https://localhost:8080/"
        },
        "id": "IdSCr1ex_fB_",
        "outputId": "cd275927-08a4-4785-db94-32ed47cbf0d9"
      },
      "outputs": [
        {
          "output_type": "stream",
          "name": "stdout",
          "text": [
            "<class 'numpy.ndarray'>\n",
            "(60000,)\n"
          ]
        }
      ],
      "source": [
        "print(type(trainy))\n",
        "print(trainy.shape)"
      ]
    },
    {
      "cell_type": "code",
      "execution_count": 8,
      "metadata": {
        "colab": {
          "base_uri": "https://localhost:8080/"
        },
        "id": "XgmtbwYF_fB_",
        "outputId": "68ef279f-df19-49e0-9528-9dec13e81a4f"
      },
      "outputs": [
        {
          "output_type": "stream",
          "name": "stdout",
          "text": [
            "(54000, 784, 6000, 784, 54000, 6000)\n",
            "X shapes (784, 54000) (784, 6000) \n",
            "y shapes (10, 54000) (10, 6000)\n"
          ]
        }
      ],
      "source": [
        "from sklearn.model_selection import train_test_split\n",
        "from sklearn.metrics import classification_report, accuracy_score, confusion_matrix\n",
        "\n",
        "trainX = trainX.reshape(trainX.shape[0], 784)\n",
        "testX = testX.reshape(testX.shape[0], 784)\n",
        "\n",
        "trainX = trainX/255.0\n",
        "testX = testX/255.0\n",
        "\n",
        "X_train, X_val, y_train, y_val = train_test_split(trainX, trainy, test_size=0.1, random_state=45)\n",
        "\n",
        "print(X_train.shape + X_val.shape + y_train.shape + y_val.shape)\n",
        "\n",
        "X_train = X_train.transpose()\n",
        "X_val = X_val.transpose()\n",
        "print(\"X shapes %s %s \" %(X_train.shape, X_val.shape,))\n",
        "\n",
        "ytrain_oneHot = oneHotEnc(y_train,10)\n",
        "yval_oneHot = oneHotEnc(y_val,10)\n",
        "\n",
        "print(\"y shapes %s %s\" %(ytrain_oneHot.shape, yval_oneHot.shape,))"
      ]
    },
    {
      "cell_type": "code",
      "source": [
        "print(y_train[4])"
      ],
      "metadata": {
        "id": "42GeMF_kbHQK",
        "outputId": "254d3d4f-b11b-4906-dcb1-db7cc24afc2e",
        "colab": {
          "base_uri": "https://localhost:8080/"
        }
      },
      "execution_count": 9,
      "outputs": [
        {
          "output_type": "stream",
          "name": "stdout",
          "text": [
            "7\n"
          ]
        }
      ]
    },
    {
      "cell_type": "code",
      "execution_count": 14,
      "metadata": {
        "id": "6d4i2HsO_fCA"
      },
      "outputs": [],
      "source": [
        "n_layers = 3+1\n",
        "neuron_list = [32,24,16,10]\n",
        "act_list = ['sigmoid','sigmoid','sigmoid','softmax']\n",
        "eta = 0.01\n",
        "fist = network(n_layers, neuron_list, act_list, X_train, ytrain_oneHot, eta)"
      ]
    },
    {
      "cell_type": "code",
      "execution_count": 15,
      "metadata": {
        "colab": {
          "base_uri": "https://localhost:8080/"
        },
        "id": "tiqyd8ZX_fCB",
        "outputId": "75644c14-6fd4-4812-fa06-008a2c3b2744"
      },
      "outputs": [
        {
          "output_type": "execute_result",
          "data": {
            "text/plain": [
              "array([[ 0.03560206, -0.46593235,  0.26164112, ...,  0.97923188,\n",
              "        -0.33687347,  1.47017776],\n",
              "       [-2.07309419, -1.17017467,  0.40638532, ..., -0.2211126 ,\n",
              "         1.25721138,  1.75261035],\n",
              "       [ 0.69410981, -1.55135301, -0.95136623, ..., -1.55590537,\n",
              "         0.44168032, -0.9701924 ],\n",
              "       ...,\n",
              "       [-0.29864666,  1.17703771, -1.17508075, ...,  0.60123539,\n",
              "         1.16689735, -0.16308955],\n",
              "       [ 0.54808788, -0.19560905, -0.64641002, ...,  1.36579199,\n",
              "        -0.26457426, -0.4199928 ],\n",
              "       [ 0.0751581 , -0.25673442, -1.00332772, ..., -0.11020438,\n",
              "         0.1229497 , -0.20227912]])"
            ]
          },
          "metadata": {},
          "execution_count": 15
        }
      ],
      "source": [
        "fist.layers[0].W"
      ]
    },
    {
      "cell_type": "code",
      "execution_count": 12,
      "metadata": {
        "colab": {
          "base_uri": "https://localhost:8080/"
        },
        "id": "9TDEz3O8_fCC",
        "outputId": "812e20b5-df44-48a9-f877-90af3d1a673d"
      },
      "outputs": [
        {
          "output_type": "stream",
          "name": "stdout",
          "text": [
            "(32, 784)\n",
            "(24, 32)\n",
            "(16, 24)\n",
            "(10, 16)\n"
          ]
        }
      ],
      "source": [
        "for i in range(4):\n",
        "    print(fist.layers[i].W.shape)"
      ]
    },
    {
      "cell_type": "code",
      "execution_count": 16,
      "metadata": {
        "colab": {
          "base_uri": "https://localhost:8080/"
        },
        "id": "QPcSAKCE_fCC",
        "outputId": "bad6630a-8f34-4280-8e47-eb24664b409d"
      },
      "outputs": [
        {
          "output_type": "stream",
          "name": "stdout",
          "text": [
            "0 Complete. Loss = 0.944674\n",
            "1 Complete. Loss = 0.618314\n",
            "2 Complete. Loss = 0.551975\n",
            "3 Complete. Loss = 0.514876\n",
            "4 Complete. Loss = 0.490461\n",
            "5 Complete. Loss = 0.471968\n",
            "6 Complete. Loss = 0.456089\n",
            "7 Complete. Loss = 0.442512\n",
            "8 Complete. Loss = 0.430935\n",
            "9 Complete. Loss = 0.420980\n",
            "10 Complete. Loss = 0.411883\n",
            "11 Complete. Loss = 0.403897\n",
            "12 Complete. Loss = 0.396489\n",
            "13 Complete. Loss = 0.389671\n",
            "14 Complete. Loss = 0.383540\n",
            "15 Complete. Loss = 0.377910\n",
            "16 Complete. Loss = 0.372649\n",
            "17 Complete. Loss = 0.367531\n",
            "18 Complete. Loss = 0.362683\n",
            "19 Complete. Loss = 0.358275\n",
            "20 Complete. Loss = 0.354101\n",
            "21 Complete. Loss = 0.350057\n",
            "22 Complete. Loss = 0.346260\n",
            "23 Complete. Loss = 0.342671\n",
            "24 Complete. Loss = 0.339278\n",
            "25 Complete. Loss = 0.336006\n",
            "26 Complete. Loss = 0.332849\n",
            "27 Complete. Loss = 0.329901\n",
            "28 Complete. Loss = 0.327009\n",
            "29 Complete. Loss = 0.324285\n",
            "30 Complete. Loss = 0.321686\n",
            "31 Complete. Loss = 0.319205\n",
            "32 Complete. Loss = 0.316748\n",
            "33 Complete. Loss = 0.314469\n",
            "34 Complete. Loss = 0.312247\n",
            "35 Complete. Loss = 0.310039\n",
            "36 Complete. Loss = 0.307880\n",
            "37 Complete. Loss = 0.305806\n",
            "38 Complete. Loss = 0.303764\n",
            "39 Complete. Loss = 0.301786\n",
            "40 Complete. Loss = 0.299802\n",
            "41 Complete. Loss = 0.297874\n",
            "42 Complete. Loss = 0.295954\n",
            "43 Complete. Loss = 0.294093\n",
            "44 Complete. Loss = 0.292204\n",
            "45 Complete. Loss = 0.290373\n",
            "46 Complete. Loss = 0.288567\n",
            "47 Complete. Loss = 0.286847\n",
            "48 Complete. Loss = 0.285118\n",
            "49 Complete. Loss = 0.283456\n",
            "50 Complete. Loss = 0.281769\n",
            "51 Complete. Loss = 0.280162\n",
            "52 Complete. Loss = 0.278549\n",
            "53 Complete. Loss = 0.277046\n",
            "54 Complete. Loss = 0.275526\n",
            "55 Complete. Loss = 0.274067\n",
            "56 Complete. Loss = 0.272625\n",
            "57 Complete. Loss = 0.271221\n",
            "58 Complete. Loss = 0.269842\n",
            "59 Complete. Loss = 0.268477\n",
            "60 Complete. Loss = 0.267140\n",
            "61 Complete. Loss = 0.265849\n",
            "62 Complete. Loss = 0.264604\n",
            "63 Complete. Loss = 0.263428\n",
            "64 Complete. Loss = 0.262216\n",
            "65 Complete. Loss = 0.261010\n",
            "66 Complete. Loss = 0.259828\n",
            "67 Complete. Loss = 0.258615\n",
            "68 Complete. Loss = 0.257480\n",
            "69 Complete. Loss = 0.256361\n",
            "70 Complete. Loss = 0.255274\n",
            "71 Complete. Loss = 0.254175\n",
            "72 Complete. Loss = 0.253084\n",
            "73 Complete. Loss = 0.252011\n",
            "74 Complete. Loss = 0.250935\n",
            "75 Complete. Loss = 0.249878\n",
            "76 Complete. Loss = 0.248911\n",
            "77 Complete. Loss = 0.247840\n",
            "78 Complete. Loss = 0.246842\n",
            "79 Complete. Loss = 0.245785\n",
            "80 Complete. Loss = 0.244785\n",
            "81 Complete. Loss = 0.243807\n",
            "82 Complete. Loss = 0.242864\n",
            "83 Complete. Loss = 0.241920\n",
            "84 Complete. Loss = 0.241010\n",
            "85 Complete. Loss = 0.240029\n",
            "86 Complete. Loss = 0.239157\n",
            "87 Complete. Loss = 0.238225\n",
            "88 Complete. Loss = 0.237256\n",
            "89 Complete. Loss = 0.236392\n",
            "90 Complete. Loss = 0.235464\n",
            "91 Complete. Loss = 0.234604\n",
            "92 Complete. Loss = 0.233628\n",
            "93 Complete. Loss = 0.232783\n",
            "94 Complete. Loss = 0.231848\n",
            "95 Complete. Loss = 0.231074\n",
            "96 Complete. Loss = 0.230347\n",
            "97 Complete. Loss = 0.229626\n",
            "98 Complete. Loss = 0.228886\n",
            "99 Complete. Loss = 0.228096\n",
            "Update complete. Total epochs = 100\n"
          ]
        }
      ],
      "source": [
        "losses = fist.train_sgd(100)"
      ]
    },
    {
      "cell_type": "code",
      "source": [
        "import matplotlib.pyplot as plt\n",
        "plt.plot(range(100), losses)\n",
        "plt.show()"
      ],
      "metadata": {
        "id": "cM0tH4JkV3g3",
        "outputId": "ec8c7d04-d840-4341-d69e-93c4f107d22b",
        "colab": {
          "base_uri": "https://localhost:8080/",
          "height": 265
        }
      },
      "execution_count": 19,
      "outputs": [
        {
          "output_type": "display_data",
          "data": {
            "image/png": "[encoded data removed]",
            "text/plain": [
              "<Figure size 432x288 with 1 Axes>"
            ]
          },
          "metadata": {
            "needs_background": "light"
          }
        }
      ]
    },
    {
      "cell_type": "code",
      "source": [
        "val_pred = fist.classify(X_val)"
      ],
      "metadata": {
        "id": "phRrxhUZ1cPv"
      },
      "execution_count": 20,
      "outputs": []
    },
    {
      "cell_type": "code",
      "source": [
        "# print(np.argmax(val_pred.transpose()[1]))\n",
        "# print(y_train[1])\n",
        "count = 0\n",
        "for i in range(6000):\n",
        "    if(np.argmax(val_pred[i])==y_val[i]):\n",
        "      count = count+1\n",
        "print(count*100/6000)"
      ],
      "metadata": {
        "id": "ktFvUaT72E4p",
        "outputId": "2550c129-6593-47e6-a704-073b7bab0a62",
        "colab": {
          "base_uri": "https://localhost:8080/"
        }
      },
      "execution_count": 34,
      "outputs": [
        {
          "output_type": "stream",
          "name": "stdout",
          "text": [
            "85.91666666666667\n"
          ]
        }
      ]
    }
  ],
  "metadata": {
    "kernelspec": {
      "display_name": "Python 3",
      "language": "python",
      "name": "python3"
    },
    "language_info": {
      "codemirror_mode": {
        "name": "ipython",
        "version": 3
      },
      "file_extension": ".py",
      "mimetype": "text/x-python",
      "name": "python",
      "nbconvert_exporter": "python",
      "pygments_lexer": "ipython3",
      "version": "3.8.5"
    },
    "colab": {
      "name": "DNN.ipynb",
      "provenance": [],
      "collapsed_sections": []
    },
    "accelerator": "GPU"
  },
  "nbformat": 4,
  "nbformat_minor": 0
}